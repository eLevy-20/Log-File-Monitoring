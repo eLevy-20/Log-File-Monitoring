{
 "cells": [
  {
   "cell_type": "code",
   "execution_count": 85,
   "metadata": {},
   "outputs": [],
   "source": [
    "# Final Submission\n",
    "def userlog():\n",
    "    fh = open(\"userlog.log\")\n",
    "    userlogs = fh.readlines()\n",
    "    \n",
    "    global fulldict \n",
    "    fulldict = {}\n",
    "    \n",
    "    for line in userlogs:\n",
    "        val = line.split()\n",
    "        date = val[0]\n",
    "        time = val[1]\n",
    "        activity = val[2]\n",
    "        server = val[3]\n",
    "        domain = val[4]\n",
    "        \n",
    "        if domain in fulldict:\n",
    "            if date in fulldict[domain]:\n",
    "                fulldict[domain][date].append((time, activity, server))\n",
    "            else:\n",
    "                fulldict[domain][date] = [(time,activity, server)]\n",
    "        else:\n",
    "            fulldict[domain] = {date: [(time, activity, server)]}\n",
    "userlog()"
   ]
  },
  {
   "cell_type": "code",
   "execution_count": 87,
   "metadata": {},
   "outputs": [
    {
     "name": "stdout",
     "output_type": "stream",
     "text": [
      "508\n",
      "{'melaina.gabeline@yahoo.com.mx': ('03:04:02', 'login', 'mailserver.local'), 'sevan.stephco@miho-nakayama.com': ('00:05:45', 'login', 'webserver.local'), 'breena.benassi@gmx.net': ('02:27:28', 'login', 'webserver.local'), 'arti.karshner@mail2perry.com': ('00:22:46', 'login', 'myworkstation.local'), 'queen.ham@quiklinks.com': ('04:29:42', 'login', 'mailserver.local'), 'maryelizabeth.stassen@freesurf.fr': ('04:31:06', 'login', 'webserver.local'), 'lupe.gave@freesurf.fr': ('01:03:25', 'login', 'myworkstation.local'), 'tarrin.evanoff@blacksburg.net': ('02:16:02', 'login', 'myworkstation.local'), 'aprilmarie.ulatowski@freesurf.fr': ('03:47:45', 'login', 'webserver.local'), 'tarrin.naysmith@mail2champaign.com': ('03:45:11', 'login', 'webserver.local'), 'kira.pay@mail2zambia.com': ('00:13:19', 'login', 'myworkstation.local'), 'tarrin.scoma@gmx.net': ('04:33:32', 'login', 'myworkstation.local'), 'catherina.rowles@mail2zambia.com': ('00:53:32', 'login', 'myworkstation.local'), 'olusegun.flemmings@theraces.com': ('01:20:32', 'login', 'mailserver.local'), 'isiah.walson@yahoo.com.mx': ('03:57:05', 'login', 'mailserver.local'), 'kirsten.zawistowski@gmx.net': ('01:10:11', 'login', 'webserver.local'), 'torrell.burreson@miho-nakayama.com': ('03:30:17', 'login', 'webserver.local'), 'jarita.lokhmator@mail2srilanka.com': ('00:23:00', 'login', 'webserver.local'), 'loriann.ryba@mail2perry.com': ('02:30:05', 'login', 'myworkstation.local'), 'jakara.pedretti@mail2srilanka.com': ('01:42:57', 'login', 'mailserver.local'), 'remington.caffrey@estranet.it': ('04:59:03', 'login', 'mailserver.local'), 'delphine.hillebrand@mail2emergency.com': ('01:46:25', 'login', 'webserver.local'), 'masiel.goelz@freesurf.fr': ('02:08:03', 'login', 'myworkstation.local'), 'isiah.baltazor@miho-nakayama.com': ('04:07:01', 'login', 'webserver.local'), 'fredricka.twine@estranet.it': ('02:18:48', 'login', 'myworkstation.local'), 'laurinda.barrow@miho-nakayama.com': ('01:32:22', 'login', 'webserver.local'), 'rebakah.evanoff@theraces.com': ('04:57:21', 'login', 'webserver.local'), 'torrell.mckown@miho-nakayama.com': ('01:36:29', 'login', 'myworkstation.local'), 'keshawn.zimmerman@mail2zambia.com': ('02:22:51', 'login', 'webserver.local'), 'nyeshia.weinstock@theraces.com': ('01:09:07', 'login', 'webserver.local'), 'rob.weinstock@miho-nakayama.com': ('04:56:40', 'login', 'webserver.local'), 'queen.pflughoeft@theraces.com': ('01:32:39', 'login', 'mailserver.local'), 'remington.gabeline@mail2srilanka.com': ('03:17:10', 'login', 'webserver.local'), 'karlita.pedretti@yahoo.com.mx': ('01:19:35', 'login', 'webserver.local'), 'daysha.karshner@blacksburg.net': ('01:51:06', 'login', 'webserver.local'), 'xandria.cassetty@mail2zambia.com': ('00:47:50', 'login', 'mailserver.local'), 'daysha.telleria@freesurf.fr': ('04:15:46', 'login', 'mailserver.local'), 'daysha.hillebrand@quiklinks.com': ('00:30:32', 'login', 'webserver.local'), 'maximiliano.mancell@spacemart.com': ('03:20:37', 'login', 'mailserver.local'), 'sherriann.goelz@spacemart.com': ('01:11:24', 'login', 'webserver.local'), 'miguel.fragman@yahoo.com.mx': ('00:12:57', 'login', 'webserver.local'), 'maryelizabeth.ryba@freesurf.fr': ('02:29:25', 'login', 'myworkstation.local'), 'kirsten.pflughoeft@mail2srilanka.com': ('01:45:17', 'login', 'webserver.local'), 'mieko.alcosiba@quiklinks.com': ('04:21:02', 'login', 'webserver.local'), 'ronica.thistle@freesurf.fr': ('03:53:44', 'login', 'webserver.local'), 'queen.sirucek@mail2emergency.com': ('04:49:26', 'login', 'webserver.local'), 'dalilah.ulatowski@angelfan.com': ('04:54:38', 'login', 'webserver.local'), 'rayon.crumly@mail2champaign.com': ('00:54:20', 'login', 'myworkstation.local'), 'melaina.valencia@gmx.net': ('02:14:27', 'login', 'myworkstation.local'), 'aubrea.corridoni@yahoo.com.mx': ('03:09:00', 'login', 'myworkstation.local')}\n"
     ]
    }
   ],
   "source": [
    "# Final Submission\n",
    "def sus_act():\n",
    "    sus_act_report = open(\"sus_act_report.txt\", 'w')\n",
    "    sus_act = {}\n",
    "    counter = 0\n",
    "    cdict = {}\n",
    "    for email in fulldict:\n",
    "        for date in fulldict[email]:\n",
    "            for val in fulldict[email][date]:\n",
    "\n",
    "                hour = int(val[0].split(\":\")[0])\n",
    "\n",
    "                if hour < 5 and val[1] == \"login\":\n",
    "                    counter += 1\n",
    "                    cdict[email] = val\n",
    "                    if email in sus_act:\n",
    "                        sus_act[email].append(date)\n",
    "                \n",
    "    sus_act_report.write(f\" {counter} \\n {cdict}\")                \n",
    "    print(counter)\n",
    "    print(cdict)\n",
    "    sus_act_report.close()\n",
    "sus_act()"
   ]
  },
  {
   "cell_type": "code",
   "execution_count": null,
   "metadata": {},
   "outputs": [],
   "source": []
  }
 ],
 "metadata": {
  "kernelspec": {
   "display_name": "Python 3",
   "language": "python",
   "name": "python3"
  },
  "language_info": {
   "codemirror_mode": {
    "name": "ipython",
    "version": 3
   },
   "file_extension": ".py",
   "mimetype": "text/x-python",
   "name": "python",
   "nbconvert_exporter": "python",
   "pygments_lexer": "ipython3",
   "version": "3.8.5"
  }
 },
 "nbformat": 4,
 "nbformat_minor": 4
}
