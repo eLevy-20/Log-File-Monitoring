{
 "cells": [
  {
   "cell_type": "code",
   "execution_count": 3,
   "metadata": {},
   "outputs": [],
   "source": [
    "# Final Submission of Dictionary\n",
    "def userlog():\n",
    "    fh = open(\"userlog.log\")\n",
    "    userlogs = fh.readlines()\n",
    "    \n",
    "    global fulldict \n",
    "    fulldict = {}\n",
    "    for line in userlogs:\n",
    "        val = line.split()\n",
    "        date = val[0]\n",
    "        time = val[1]\n",
    "        activity = val[2]\n",
    "        server = val[3]\n",
    "        domain = val[4]\n",
    "        \n",
    "        if domain in fulldict:\n",
    "            if date in fulldict[domain]:\n",
    "                fulldict[domain][date].append((time, activity, server))\n",
    "            else:\n",
    "                fulldict[domain][date] = [(time, activity, server)]\n",
    "        else: \n",
    "            fulldict[domain] = {date: [(time, activity, server)]}\n",
    "        sorted(fulldict[domain][date])\n",
    "userlog()"
   ]
  },
  {
   "cell_type": "code",
   "execution_count": 2,
   "metadata": {},
   "outputs": [
    {
     "name": "stdout",
     "output_type": "stream",
     "text": [
      "============================= \n",
      "===DOMAIN COUNT: 15 DOMAINS=== \n",
      "=============================\n",
      "yahoo.com.mx: 5\n",
      "miho-nakayama.com: 6\n",
      "gmx.net: 4\n",
      "mail2perry.com: 2\n",
      "quiklinks.com: 3\n",
      "freesurf.fr: 7\n",
      "blacksburg.net: 2\n",
      "mail2champaign.com: 2\n",
      "mail2zambia.com: 4\n",
      "theraces.com: 4\n",
      "mail2srilanka.com: 4\n",
      "estranet.it: 2\n",
      "mail2emergency.com: 2\n",
      "spacemart.com: 2\n",
      "angelfan.com: 1\n"
     ]
    }
   ],
   "source": [
    "# Final Submission\n",
    "def domain_count():\n",
    "    domain_report = open('domain_report.txt', 'w')\n",
    "    l1 = []\n",
    "    for domain in fulldict:\n",
    "        name = domain.split(\"@\")[0]\n",
    "        email = domain.split(\"@\")[1]\n",
    "        l1.append(email)\n",
    "        domaincount = {i:l1.count(i) for i in l1}\n",
    "    domain_report.write(f\"============================= \\n===DOMAIN COUNT: {len(domaincount)} DOMAINS=== \\n============================= \\n\\n {domaincount}\")\n",
    "    domain_report.close\n",
    "    print(f\"============================= \\n===DOMAIN COUNT: {len(domaincount)} DOMAINS=== \\n=============================\")\n",
    "    for key in domaincount:\n",
    "        print((f\"{key}: {domaincount[key]}\"))\n",
    "domain_count()"
   ]
  },
  {
   "cell_type": "code",
   "execution_count": null,
   "metadata": {},
   "outputs": [],
   "source": []
  }
 ],
 "metadata": {
  "kernelspec": {
   "display_name": "Python 3",
   "language": "python",
   "name": "python3"
  },
  "language_info": {
   "codemirror_mode": {
    "name": "ipython",
    "version": 3
   },
   "file_extension": ".py",
   "mimetype": "text/x-python",
   "name": "python",
   "nbconvert_exporter": "python",
   "pygments_lexer": "ipython3",
   "version": "3.8.5"
  }
 },
 "nbformat": 4,
 "nbformat_minor": 4
}
